{
 "cells": [
  {
   "cell_type": "markdown",
   "metadata": {},
   "source": [
    "# How this study project works\n",
    "\n",
    "## Study folder\n",
    "\n",
    "Use this .Rproj when working on this publication. `here()` starts here, then, and the loading scrips are designed for this.\n",
    "\n",
    "## Preregistration\n",
    "\n",
    "Use the `preregistration.qmd` file to build out the preregistration you’ll eventually submit to OSF, et cetera.\n",
    "\n",
    "## Acronyms\n",
    "\n",
    "https://rchaput.github.io/acronyms/getting_started.html"
   ],
   "id": "41b52994-6712-443a-971a-e738d2f80aa1"
  }
 ],
 "nbformat": 4,
 "nbformat_minor": 5,
 "metadata": {}
}
