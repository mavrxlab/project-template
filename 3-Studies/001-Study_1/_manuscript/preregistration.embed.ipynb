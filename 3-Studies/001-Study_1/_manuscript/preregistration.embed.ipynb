{
 "cells": [
  {
   "cell_type": "markdown",
   "metadata": {},
   "source": [
    "# My preregistration for AsPredicted.org\n",
    "\n",
    "First Author, Affiliation  \n",
    "Ernst-August Doelle, Affiliation  \n",
    "February 25, 2024"
   ],
   "id": "580619f7-8191-40e2-adb3-79031ecc3eb3"
  },
  {
   "cell_type": "raw",
   "metadata": {
    "raw_mimetype": "text/html"
   },
   "source": [
    "<!-- To keep pre-registrations to a reasonable length for readers, we recommend answers fit within a single page .pdf document, roughly 3200 characters. Read more about this here: https://aspredicted.org/messages/why_limits.php\n",
    "\n",
    "Uncomment the next line after including a link to the preregistration once submitted. -->"
   ],
   "id": "709051f9-6c76-49c2-a86d-c1fe826064e8"
  },
  {
   "cell_type": "raw",
   "metadata": {
    "raw_mimetype": "text/html"
   },
   "source": [
    "<!-- > Link to submitted preregistration: https://osf.io/ -->"
   ],
   "id": "e2d8bfe4-41be-4e37-93eb-8e70cb6553ae"
  },
  {
   "cell_type": "markdown",
   "metadata": {},
   "source": [
    "## Data collection"
   ],
   "id": "add273b9-9941-4af5-b311-8ddf37cf7672"
  },
  {
   "cell_type": "raw",
   "metadata": {
    "raw_mimetype": "text/html"
   },
   "source": [
    "<!-- Have any data been collected for this study already? (Note: \"Yes\" is not an accepted answer.) -->"
   ],
   "id": "172784d8-7ee7-4a06-a1d9-900734ce3aba"
  },
  {
   "cell_type": "markdown",
   "metadata": {},
   "source": [
    "**Yes**, we already collected the data.\n",
    "\n",
    "**No**, no data have been collected for this study yet.\n",
    "\n",
    "**It’s complicated.** We have already collected some data but explain in Question 8 why readers may consider this a valid **pre**-registration nevertheless.\n",
    "\n",
    "## Hypothesis"
   ],
   "id": "e309dbc0-f70f-4e38-bc90-9160543ddbd6"
  },
  {
   "cell_type": "raw",
   "metadata": {
    "raw_mimetype": "text/html"
   },
   "source": [
    "<!-- What's the main question being asked or hypothesis being tested in this study? -->"
   ],
   "id": "aa217794-e00a-4284-aad9-4fd9958bb118"
  },
  {
   "cell_type": "markdown",
   "metadata": {},
   "source": [
    "> Example: A month-long academic summer program for disadvantaged kids will reduce the drop in academic performance that occurs during the summer.\n",
    "\n",
    "## Dependent variable"
   ],
   "id": "be5391b7-4b24-4e12-84a1-5dfa6de8dddc"
  },
  {
   "cell_type": "raw",
   "metadata": {
    "raw_mimetype": "text/html"
   },
   "source": [
    "<!-- Describe the key dependent variable(s) specifying how they will be measured. -->"
   ],
   "id": "52c98978-9ad6-4636-9638-cb9047e84a30"
  },
  {
   "cell_type": "markdown",
   "metadata": {},
   "source": [
    "> Example: Simple average GPA across all courses during the first semester after the intervention.\n",
    "\n",
    "## Conditions"
   ],
   "id": "84dc2bc3-f58a-4fcb-a5c5-5a8f42bf13d7"
  },
  {
   "cell_type": "raw",
   "metadata": {
    "raw_mimetype": "text/html"
   },
   "source": [
    "<!-- How many and which conditions will participants be assigned to? -->"
   ],
   "id": "3d2294d4-436a-4c26-8d7b-c2c4d55e8946"
  },
  {
   "cell_type": "markdown",
   "metadata": {},
   "source": [
    "> Example 1: Two conditions: Offering summer program: yes vs no.\n",
    "\n",
    "> Example 2: 12 conditions in a mixed design lab study. Participants will be assigned to one of four conditions: math training, verbal training, memory task, or control (4 between-subject conditions). Each participant will complete a math test, a verbal test, and a memory test (3 within-subject conditions).\n",
    "\n",
    "## Analyses"
   ],
   "id": "b906853d-3740-4a0d-9914-c3ed2ba68022"
  },
  {
   "cell_type": "raw",
   "metadata": {
    "raw_mimetype": "text/html"
   },
   "source": [
    "<!-- Specify exactly which analyses you will conduct to examine the main question/hypothesis. -->"
   ],
   "id": "661799b7-d7d3-40d9-9704-e4601907d21d"
  },
  {
   "cell_type": "markdown",
   "metadata": {},
   "source": [
    "> Example: Linear regression predicting the simple average GPA in the semester after the intervention with a dummy variable indicating whether the participant was offered the summer program or not (intention-to-treat analysis). We will also conduct the same regression controlling for simple average GPA during the semester before the intervention, gender, & household income (an 8-point scale ranging from 1 = below \\$20,000 and 8 = above \\$150,000).\n",
    "\n",
    "## Outliers and exclusions"
   ],
   "id": "98c9deb8-6298-4e67-aa6a-c48f4ab8bfa6"
  },
  {
   "cell_type": "raw",
   "metadata": {
    "raw_mimetype": "text/html"
   },
   "source": [
    "<!-- Describe exactly how outliers will be defined and handled, and your precise rule(s) for excluding observations. -->"
   ],
   "id": "e059fc90-5516-4f6b-80db-baf2e3eb35ac"
  },
  {
   "cell_type": "markdown",
   "metadata": {},
   "source": [
    "> Example 1: We will compute the overall mean and standard deviation across all conditions, and winsorize at 2.5 SD above/below the mean. Example 2: We will exclude participants who incorrectly answer at least 2 of our 3 attention check questions. Example 3: We will exclude any participants who complete the survey in less than 30 seconds.\n",
    "\n",
    "## Sample size"
   ],
   "id": "8e519a7e-62e9-437c-9165-be125a99ce5c"
  },
  {
   "cell_type": "raw",
   "metadata": {
    "raw_mimetype": "text/html"
   },
   "source": [
    "<!-- How many observations will be collected or what will determine sample size? No need to justify decision, but be precise about _exactly_ how the number will be determined. -->"
   ],
   "id": "c5c983c7-9ea1-4389-9583-7f4f734acd0f"
  },
  {
   "cell_type": "markdown",
   "metadata": {},
   "source": [
    "> Example: We will offer the program until 500 people have agreed to participate in it or until June 30, 2016 (whichever comes first).\n",
    "\n",
    "## Other"
   ],
   "id": "e88d4bb5-eb58-4a9a-bad7-68be6b7e31e4"
  },
  {
   "cell_type": "raw",
   "metadata": {
    "raw_mimetype": "text/html"
   },
   "source": [
    "<!-- Anything else you would like to pre-register? (e.g., secondary analyses, variables collected for exploratory purposes, unusual analyses planned?) -->"
   ],
   "id": "efbba60a-3cad-407e-ab74-5e24257a4ff7"
  },
  {
   "cell_type": "markdown",
   "metadata": {},
   "source": [
    "> Example: We will include a battery of questions for exploratory purposes, including life satisfaction, amount of videogame playing, and family activity. We will also provide an additional survey with 24 questions assessing achievement orientation. We will not report the results of those analyses for the project being pre-registered. Otherwise, state ‘Nothing else to pre-register.’\n",
    "\n",
    "## Study type\n",
    "\n",
    "Finally. For record keeping purposes, please tell us the type of study you are pre-registering.\n",
    "\n",
    "-   Class project or assignment\n",
    "-   Experiment\n",
    "-   Survey\n",
    "-   Observational/archival study\n",
    "-   Other:"
   ],
   "id": "5fb4f1ee-edd0-41ae-aef4-b436e16006c1"
  }
 ],
 "nbformat": 4,
 "nbformat_minor": 5,
 "metadata": {}
}
