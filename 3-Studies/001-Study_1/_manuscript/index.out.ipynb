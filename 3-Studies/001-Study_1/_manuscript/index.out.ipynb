{
 "cells": [
  {
   "cell_type": "markdown",
   "metadata": {},
   "source": [
    "# Using Quarto to Generate Documents in APA Style (7th Edition)\n",
    "\n",
    "[Ana Fulano](https://example.org/) [![](data:image/png;base64,iVBORw0KGgoAAAANSUhEUgAAABAAAAAQCAYAAAAf8/9hAAAAGXRFWHRTb2Z0d2FyZQBBZG9iZSBJbWFnZVJlYWR5ccllPAAAA2ZpVFh0WE1MOmNvbS5hZG9iZS54bXAAAAAAADw/eHBhY2tldCBiZWdpbj0i77u/IiBpZD0iVzVNME1wQ2VoaUh6cmVTek5UY3prYzlkIj8+IDx4OnhtcG1ldGEgeG1sbnM6eD0iYWRvYmU6bnM6bWV0YS8iIHg6eG1wdGs9IkFkb2JlIFhNUCBDb3JlIDUuMC1jMDYwIDYxLjEzNDc3NywgMjAxMC8wMi8xMi0xNzozMjowMCAgICAgICAgIj4gPHJkZjpSREYgeG1sbnM6cmRmPSJodHRwOi8vd3d3LnczLm9yZy8xOTk5LzAyLzIyLXJkZi1zeW50YXgtbnMjIj4gPHJkZjpEZXNjcmlwdGlvbiByZGY6YWJvdXQ9IiIgeG1sbnM6eG1wTU09Imh0dHA6Ly9ucy5hZG9iZS5jb20veGFwLzEuMC9tbS8iIHhtbG5zOnN0UmVmPSJodHRwOi8vbnMuYWRvYmUuY29tL3hhcC8xLjAvc1R5cGUvUmVzb3VyY2VSZWYjIiB4bWxuczp4bXA9Imh0dHA6Ly9ucy5hZG9iZS5jb20veGFwLzEuMC8iIHhtcE1NOk9yaWdpbmFsRG9jdW1lbnRJRD0ieG1wLmRpZDo1N0NEMjA4MDI1MjA2ODExOTk0QzkzNTEzRjZEQTg1NyIgeG1wTU06RG9jdW1lbnRJRD0ieG1wLmRpZDozM0NDOEJGNEZGNTcxMUUxODdBOEVCODg2RjdCQ0QwOSIgeG1wTU06SW5zdGFuY2VJRD0ieG1wLmlpZDozM0NDOEJGM0ZGNTcxMUUxODdBOEVCODg2RjdCQ0QwOSIgeG1wOkNyZWF0b3JUb29sPSJBZG9iZSBQaG90b3Nob3AgQ1M1IE1hY2ludG9zaCI+IDx4bXBNTTpEZXJpdmVkRnJvbSBzdFJlZjppbnN0YW5jZUlEPSJ4bXAuaWlkOkZDN0YxMTc0MDcyMDY4MTE5NUZFRDc5MUM2MUUwNEREIiBzdFJlZjpkb2N1bWVudElEPSJ4bXAuZGlkOjU3Q0QyMDgwMjUyMDY4MTE5OTRDOTM1MTNGNkRBODU3Ii8+IDwvcmRmOkRlc2NyaXB0aW9uPiA8L3JkZjpSREY+IDwveDp4bXBtZXRhPiA8P3hwYWNrZXQgZW5kPSJyIj8+84NovQAAAR1JREFUeNpiZEADy85ZJgCpeCB2QJM6AMQLo4yOL0AWZETSqACk1gOxAQN+cAGIA4EGPQBxmJA0nwdpjjQ8xqArmczw5tMHXAaALDgP1QMxAGqzAAPxQACqh4ER6uf5MBlkm0X4EGayMfMw/Pr7Bd2gRBZogMFBrv01hisv5jLsv9nLAPIOMnjy8RDDyYctyAbFM2EJbRQw+aAWw/LzVgx7b+cwCHKqMhjJFCBLOzAR6+lXX84xnHjYyqAo5IUizkRCwIENQQckGSDGY4TVgAPEaraQr2a4/24bSuoExcJCfAEJihXkWDj3ZAKy9EJGaEo8T0QSxkjSwORsCAuDQCD+QILmD1A9kECEZgxDaEZhICIzGcIyEyOl2RkgwAAhkmC+eAm0TAAAAABJRU5ErkJggg==)](https://orcid.org/0000-0000-0000-0000) (Ana and Blanca’s University)  \n",
    "Carina Mengano [![](data:image/png;base64,iVBORw0KGgoAAAANSUhEUgAAABAAAAAQCAYAAAAf8/9hAAAAGXRFWHRTb2Z0d2FyZQBBZG9iZSBJbWFnZVJlYWR5ccllPAAAA2ZpVFh0WE1MOmNvbS5hZG9iZS54bXAAAAAAADw/eHBhY2tldCBiZWdpbj0i77u/IiBpZD0iVzVNME1wQ2VoaUh6cmVTek5UY3prYzlkIj8+IDx4OnhtcG1ldGEgeG1sbnM6eD0iYWRvYmU6bnM6bWV0YS8iIHg6eG1wdGs9IkFkb2JlIFhNUCBDb3JlIDUuMC1jMDYwIDYxLjEzNDc3NywgMjAxMC8wMi8xMi0xNzozMjowMCAgICAgICAgIj4gPHJkZjpSREYgeG1sbnM6cmRmPSJodHRwOi8vd3d3LnczLm9yZy8xOTk5LzAyLzIyLXJkZi1zeW50YXgtbnMjIj4gPHJkZjpEZXNjcmlwdGlvbiByZGY6YWJvdXQ9IiIgeG1sbnM6eG1wTU09Imh0dHA6Ly9ucy5hZG9iZS5jb20veGFwLzEuMC9tbS8iIHhtbG5zOnN0UmVmPSJodHRwOi8vbnMuYWRvYmUuY29tL3hhcC8xLjAvc1R5cGUvUmVzb3VyY2VSZWYjIiB4bWxuczp4bXA9Imh0dHA6Ly9ucy5hZG9iZS5jb20veGFwLzEuMC8iIHhtcE1NOk9yaWdpbmFsRG9jdW1lbnRJRD0ieG1wLmRpZDo1N0NEMjA4MDI1MjA2ODExOTk0QzkzNTEzRjZEQTg1NyIgeG1wTU06RG9jdW1lbnRJRD0ieG1wLmRpZDozM0NDOEJGNEZGNTcxMUUxODdBOEVCODg2RjdCQ0QwOSIgeG1wTU06SW5zdGFuY2VJRD0ieG1wLmlpZDozM0NDOEJGM0ZGNTcxMUUxODdBOEVCODg2RjdCQ0QwOSIgeG1wOkNyZWF0b3JUb29sPSJBZG9iZSBQaG90b3Nob3AgQ1M1IE1hY2ludG9zaCI+IDx4bXBNTTpEZXJpdmVkRnJvbSBzdFJlZjppbnN0YW5jZUlEPSJ4bXAuaWlkOkZDN0YxMTc0MDcyMDY4MTE5NUZFRDc5MUM2MUUwNEREIiBzdFJlZjpkb2N1bWVudElEPSJ4bXAuZGlkOjU3Q0QyMDgwMjUyMDY4MTE5OTRDOTM1MTNGNkRBODU3Ii8+IDwvcmRmOkRlc2NyaXB0aW9uPiA8L3JkZjpSREY+IDwveDp4bXBtZXRhPiA8P3hwYWNrZXQgZW5kPSJyIj8+84NovQAAAR1JREFUeNpiZEADy85ZJgCpeCB2QJM6AMQLo4yOL0AWZETSqACk1gOxAQN+cAGIA4EGPQBxmJA0nwdpjjQ8xqArmczw5tMHXAaALDgP1QMxAGqzAAPxQACqh4ER6uf5MBlkm0X4EGayMfMw/Pr7Bd2gRBZogMFBrv01hisv5jLsv9nLAPIOMnjy8RDDyYctyAbFM2EJbRQw+aAWw/LzVgx7b+cwCHKqMhjJFCBLOzAR6+lXX84xnHjYyqAo5IUizkRCwIENQQckGSDGY4TVgAPEaraQr2a4/24bSuoExcJCfAEJihXkWDj3ZAKy9EJGaEo8T0QSxkjSwORsCAuDQCD+QILmD1A9kECEZgxDaEZhICIzGcIyEyOl2RkgwAAhkmC+eAm0TAAAAABJRU5ErkJggg==)](https://orcid.org/0000-0000-0000-0001) (Carina’s Primary Affiliation, Carina’s Secondary Affiliation)\n",
    "\n",
    "This document is a template demonstrating the apaquarto format."
   ],
   "id": "f45d4485-0f59-4f21-bbcd-1a3d76c041a2"
  },
  {
   "cell_type": "code",
   "execution_count": null,
   "metadata": {},
   "outputs": [
    {
     "output_type": "stream",
     "name": "stderr",
     "text": [
      "Warning: package 'ggplot2' was built under R version 4.2.3"
     ]
    },
    {
     "output_type": "stream",
     "name": "stderr",
     "text": [
      "Warning: package 'tibble' was built under R version 4.2.3"
     ]
    },
    {
     "output_type": "stream",
     "name": "stderr",
     "text": [
      "Warning: package 'tidyr' was built under R version 4.2.3"
     ]
    },
    {
     "output_type": "stream",
     "name": "stderr",
     "text": [
      "Warning: package 'readr' was built under R version 4.2.3"
     ]
    },
    {
     "output_type": "stream",
     "name": "stderr",
     "text": [
      "Warning: package 'purrr' was built under R version 4.2.3"
     ]
    },
    {
     "output_type": "stream",
     "name": "stderr",
     "text": [
      "Warning: package 'dplyr' was built under R version 4.2.3"
     ]
    },
    {
     "output_type": "stream",
     "name": "stderr",
     "text": [
      "Warning: package 'stringr' was built under R version 4.2.3"
     ]
    },
    {
     "output_type": "stream",
     "name": "stderr",
     "text": [
      "Warning: package 'lubridate' was built under R version 4.2.3"
     ]
    },
    {
     "output_type": "stream",
     "name": "stderr",
     "text": [
      "── Attaching core tidyverse packages ──────────────────────── tidyverse 2.0.0 ──\n",
      "✔ dplyr     1.1.4     ✔ readr     2.1.5\n",
      "✔ forcats   1.0.0     ✔ stringr   1.5.1\n",
      "✔ ggplot2   3.4.4     ✔ tibble    3.2.1\n",
      "✔ lubridate 1.9.3     ✔ tidyr     1.3.1\n",
      "✔ purrr     1.0.2     "
     ]
    },
    {
     "output_type": "stream",
     "name": "stderr",
     "text": [
      "Warning: package 'flextable' was built under R version 4.2.3"
     ]
    },
    {
     "output_type": "stream",
     "name": "stderr",
     "text": [
      "Warning: package 'ftExtra' was built under R version 4.2.3"
     ]
    },
    {
     "output_type": "stream",
     "name": "stderr",
     "text": [
      "Registered S3 method overwritten by 'ftExtra':\n",
      "  method                  from     \n",
      "  as_flextable.data.frame flextable"
     ]
    },
    {
     "output_type": "stream",
     "name": "stderr",
     "text": [
      "Warning: package 'officer' was built under R version 4.2.3"
     ]
    },
    {
     "output_type": "stream",
     "name": "stderr",
     "text": [
      "Warning: package 'knitr' was built under R version 4.2.3"
     ]
    }
   ],
   "source": [
    "library(conflicted)\n",
    "library(tidyverse)"
   ],
   "id": "b43f92cb-3e20-4b58-be15-a57400aa7135"
  },
  {
   "cell_type": "markdown",
   "metadata": {},
   "source": [
    "This is my introductory paragraph. The title will be placed above it automatically. *Do not start with an introductory heading* (e.g., “Introduction”). The title acts as your Level 1 heading for the introduction.\n",
    "\n",
    "You can add acronyms using the `acronyms` extension and shortcodes. For example, {{\\< acr qmd \>}} gives you Quarto document (qmd). Then, when you use {{\\< acr qmd \>}} subsequent times, it would simply show the acronym, like so: qmd. Very convenient. When talking about qmd frontmatter, you might say:\n",
    "\n",
    "> qmd uses YAML Aint Markup Language (YAML) for frontmatter, metadata, and settings. YAML is convenient and human-readable.\n",
    "\n",
    "And the actual text in the file is:\n",
    "\n",
    "``` markdown\n",
    ">{{< acr qmd >}} uses {{< acr YAML >}} for frontmatter, metadata,\n",
    ">and settings. {{< acr YAML >}} is convenient and human-readable.\n",
    "```\n",
    "\n",
    "Readers are better able to follow your ideas if you differentiate sections in your introduction with headings. Mostly stick to level 2 headers. Sometimes level 3 headings are needed, though. Be sparing to the point of stinginess with levels 4 and 5.\n",
    "\n",
    "All headings should be in title case according to [these rules and exceptions](https://apastyle.apa.org/style-grammar-guidelines/capitalization/title-case).\n",
    "\n",
    "## Level 2 Heading\n",
    "\n",
    "Subsections of the introduction have level 2 headings. A paragraph after a level 2 Heading is on a new line. Regular paragraphs are indented, flush left, and double-spaced.\n",
    "\n",
    "You do not need to put text after a heading. You can put a higher-level heading directly underneath if you want.\n",
    "\n",
    "## A Level 2 Heading Without Text Below It\n",
    "\n",
    "### Level 3 Heading\n",
    "\n",
    "Subsections of a level 2 heading are placed under level 3 headings.\n",
    "\n",
    "### Another Level 3 Heading\n",
    "\n",
    "#### Level 4 Heading\n",
    "\n",
    "A level 4 heading should be indented, flush left, bold, title case, and end with a period. A paragraph after a level 4 or 5 heading is on a new line in this markdown document but will appear as if it were in the same paragraph when rendered. You need at least one paragraph after a level 4 or 5 heading. If you forget the period at the end of the level 4 or 5 heading, it will be added automatically. A period will not be added if the heading ends with a question mark or an exclamation point.\n",
    "\n",
    "Subsequent paragraphs go on their own lines.\n",
    "\n",
    "##### Level 5 Heading\n",
    "\n",
    "A level 5 heading should be indented, flush left, bold italic, title case, and end with a period. Notice that there was no period after this level 5 heading in the markdown document, but it does appear in the rendered document.\n",
    "\n",
    "Subsequent paragraphs go on their own lines.\n",
    "\n",
    "## How to Cite References\n",
    "\n",
    "I am going to cite a reference here in square brackets ([Cameron and Trivedi 2013](#ref-CameronTrivedi2013)). This reference was in my bibliography file.\n",
    "\n",
    "### Parenthetical References\n",
    "\n",
    "Here are some variations on parenthetical citations:\n",
    "\n",
    "-   Page references (or any other suffixes are placed after the reference. If you want a comma, you’ll need to insert it yourself: ([Cameron and Trivedi 2013, 35–41](#ref-CameronTrivedi2013))\n",
    "\n",
    "-   Prefixes (with or without a comma) are placed before the reference: (e.g., [Cameron and Trivedi 2013](#ref-CameronTrivedi2013)).\n",
    "\n",
    "-   2 or more citations separated by a semicolon ([Cameron and Trivedi 2013](#ref-CameronTrivedi2013); [Cohen et al. 2003](#ref-cohen2003applied)). If you need a prefix at the beginning of 2 or more citations, you will have rearrange the citations so that the prefix accompanies the citation that is first alphabetically. That is, (e.g., [Cameron and Trivedi 2013](#ref-CameronTrivedi2013); [Cohen et al. 2003](#ref-cohen2003applied)), not (e.g., [Cohen et al. 2003](#ref-cohen2003applied); [Cameron and Trivedi 2013](#ref-CameronTrivedi2013))\n",
    "\n",
    "-   Any prefixes or suffixes needing a literal semicolon will confuse Quarto (actually Pandoc). To make it clear that you need to print a semicolon, put a backslash before the semicolon: (FOIL; [Cameron and Trivedi 2013](#ref-CameronTrivedi2013)).\n",
    "\n",
    "### In-Text references\n",
    "\n",
    "-   Cameron and Trivedi ([2013](#ref-CameronTrivedi2013)) said some interesting things.\n",
    "\n",
    "-   Cohen et al. ([2003, 101–3](#ref-cohen2003applied)) said specific things on specific pages.\n",
    "\n",
    "-   Place the reference’s year by itself with a minus sign: ([2013](#ref-CameronTrivedi2013))\n",
    "\n",
    "### Masked references\n",
    "\n",
    "Suppose you want to cite a previous reference of yours, but your anonymity is supposed to be protected in the review process. You can “mask” any citation you wish by setting the `mask` field in the metadata yaml to `true`. Then list all citations that need to be masked in the `masked-citations` field as shown in this template. If the `mask` field is set to `false`, they will print as ususual. Depending if it is an inline or parenthetical citation, will be listed as “Masked Citations (n.d)” or “(Masked Citations, n.d)”.\n",
    "\n",
    "I have set two of my publications to be masked. In previous studies, things were asserted ([Schneider and Newman 2015](#ref-schneider2015intelligence)). Schneider and McGrew ([2012](#ref-schneider2012cattell)) asserted them emphatically.\n",
    "\n",
    "You can mix masked and unmasked citations ([Cohen et al. 2003](#ref-cohen2003applied); [Schneider and Newman 2015](#ref-schneider2015intelligence)).\n",
    "\n",
    "## Block Quotes and Suppressing Indentation\n",
    "\n",
    "Sometimes you want to give a longer quote that needs to go in its own paragraph. Block quotes are on their own line starting with the `>` character. For example, Jane Austen’s ([\\[1814\\] 1990](#ref-austenMansfieldPark1990)) *Mansfield Park* has some memorable insights about the mind:\n",
    "\n",
    "> If any one faculty of our nature may be called more wonderful than the rest, I do think it is memory. There seems something more speakingly incomprehensible in the powers, the failures, the inequalities of memory, than in any other of our intelligences. The memory is sometimes so retentive, so serviceable, so obedient; at others, so bewildered and so weak; and at others again, so tyrannic, so beyond control! We are, to be sure, a miracle every way; but our powers of recollecting and of forgetting do seem peculiarly past finding out. (p. 163)\n",
    "\n",
    "If the text after a quote is a new paragraph, you can create it in the usual fashion (i.e., plain text with an empty line between the block text and the new paragraph). However, if the text after a quote is part of the same paragraph, you can suppress the indentation by creating a div with the .NoIndent class. This paragraph is an example of how to do so.\n",
    "\n",
    "## Hypotheses, Aims, and Objectives\n",
    "\n",
    "The last paragraph of the introduction usually states the specific hypotheses of the study, often in a way that links them to the research design.\n",
    "\n",
    "# Method\n",
    "\n",
    "General remarks on method. This paragraph is optional.\n",
    "\n",
    "Not all papers require each of these sections. Edit them as needed. Consult the [Journal Article Reporting Standards](https://apastyle.apa.org/jars) for what is needed for your type of article.\n",
    "\n",
    "## Participants\n",
    "\n",
    "Who are they? How were they recruited? Report criteria for participant inclusion and exclusion. Perhaps some basic demographic stats are in order. A table is a great way to avoid repetition in statistical reporting.\n",
    "\n",
    "## Measures\n",
    "\n",
    "This section can also be titled **Materials** or **Apparatus**. Whatever tools, equipment, or measurement devices used in the study should be described.\n",
    "\n",
    "### Measure A\n",
    "\n",
    "Describe Measure A.\n",
    "\n",
    "### Measure B\n",
    "\n",
    "Describe Measure B.\n",
    "\n",
    "## Procedure\n",
    "\n",
    "What did participants do?\n",
    "\n",
    "How are the data going to be analyzed?\n",
    "\n",
    "# Results\n",
    "\n",
    "## Descriptive Statistics\n",
    "\n",
    "Here we describe the basic characteristics of our primary variables.\n",
    "\n",
    "## Displaying Figures\n",
    "\n",
    "Let’s make a figure. A reference label for a figure must have the prefix `fig-`, and in a code chunk, the caption must be set with `fig-cap`."
   ],
   "id": "2a1ecc6a-6dc5-4aeb-b5d1-cb1c6d4bc77c"
  },
  {
   "cell_type": "code",
   "execution_count": null,
   "metadata": {
    "apa-note": "This is the note below the figure."
   },
   "outputs": [
    {
     "output_type": "display_data",
     "metadata": {},
     "data": {}
    }
   ],
   "source": [
    "ggplot(data.frame(x = c(0, 35)), aes(x)) +\n",
    "  stat_function(fun = dchisq, \n",
    "                args = list(df = 10),\n",
    "                geom = \"area\",\n",
    "                n = 1000,\n",
    "                color = NA,\n",
    "                fill = \"#41448780\") +\n",
    "  theme_void(base_size = 18)"
   ],
   "id": "cell-fig-myplot"
  },
  {
   "cell_type": "markdown",
   "metadata": {},
   "source": [
    "To refer to any figure or table, use the `@` symbol followed by the reference label, eg., <a href=\"#fig-myplot\" class=\"quarto-xref\">Figure 1</a>.\n",
    "\n",
    "## Updated Syntax for Figures and Tables\n",
    "\n",
    "A previous version of this extension used the `apafg-` prefix for figure chunk labels and `apatb-` prefix for tables. It was always in the plan to use standard Quarto syntax as soon as possible. It is now possible. Replace all instances of `apafg-` with the standard Quarto prefix `fig-`. Likewise, replace the non-standard `apatb-` prefix with the standard Quarto prefix `tbl-`.\n",
    "\n",
    "Also replace all text references to figures and tables using standard Quarto syntax. For example, `{apafg-myplot}` should now be `@fig-myplot` instead.\n",
    "\n",
    "## Imported Graphics\n",
    "\n",
    "One way to import an existing graphic as a figure is to use `knitr::include_graphics` in a code chunk. For example, <a href=\"#fig-importedgraphic\" class=\"quarto-xref\">Figure 2</a> is an imported image. Note that in apaquarto-pdf documents, we can specify that that a figure or table should span both columns when in journal mode by setting the `apa-twocolumn` chunk option to `true`. For other formats, this distinction does not matter."
   ],
   "id": "f60a07a2-3c20-442f-968a-9b652a7a0ece"
  },
  {
   "cell_type": "code",
   "execution_count": null,
   "metadata": {
    "apa-twocolumn": true
   },
   "outputs": [
    {
     "output_type": "display_data",
     "metadata": {},
     "data": {}
    }
   ],
   "source": [
    "knitr::include_graphics(\"4-Outputs/sampleimage.png\")"
   ],
   "id": "cell-fig-importedgraphic"
  },
  {
   "cell_type": "markdown",
   "metadata": {},
   "source": [
    "## Displaying Tables\n",
    "\n",
    "We can make a table the same way as a figure. Generating a table that conforms to APA format in all document formats can be tricky. When the table is simple, the `kable` function from knitr works well. Feel free to experiment with different methods, but I have found that David Gohel’s [flextable](https://davidgohel.github.io/flextable/) to be the best option when I need something more complex."
   ],
   "id": "7b5394b5-fe3c-4434-a97f-86c2ec8e0fc9"
  },
  {
   "cell_type": "code",
   "execution_count": null,
   "metadata": {
    "apa-note": "Here is the note below the table.",
    "apa-twocolumn": true,
    "ft.align": "left"
   },
   "outputs": [],
   "source": [
    "tibble(Numbers = seq(1,4), Letters = LETTERS[seq(Numbers)]) |> \n",
    "  flextable() %>%\n",
    "  theme_apa() |> \n",
    "  line_spacing(part = \"all\", space = 1)"
   ],
   "id": "7b527e87-846c-4fd5-948d-40f23205fb93"
  },
  {
   "cell_type": "markdown",
   "metadata": {},
   "source": [
    "To refer to this table in text, put the table’s reference label in curly braces like so: As seen in <a href=\"#tbl-mytable\" class=\"quarto-xref\">Table 1</a>, the first few numbers and letters of the alphabet are displayed.\n",
    "\n",
    "In <a href=\"#tbl-mymarkdowntable\" class=\"quarto-xref\">Table 2</a>, there is an example of a plain markdown table with a note below it.\n",
    "\n",
    "| Default | Left | Right | Center |\n",
    "|---------|:-----|------:|:------:|\n",
    "| 12      | 12   |    12 |   12   |\n",
    "| 123     | 123  |   123 |  123   |\n",
    "| 1       | 1    |     1 |   1    |\n",
    "\n",
    "Table 2: Table caption of a markdown table\n",
    "\n",
    "What if you want the tables and figures to be at the end of the document? In the .pdf format, you can set the `floatsintext` option to false. For .html and .docx documents, there is not yet an automatic way to put tables and figures at the end. You can, of course, just put them all at the end, in order. The reference labels will work no matter where they are in the text."
   ],
   "id": "843d0329-e9a8-43a2-9500-a40d11081b1c"
  },
  {
   "cell_type": "raw",
   "metadata": {
    "raw_mimetype": "text/html"
   },
   "source": [
    "<!-- Add Additional Sections as Needed -->"
   ],
   "id": "67dfcf1d-59a1-4425-9fac-414532604840"
  },
  {
   "cell_type": "markdown",
   "metadata": {},
   "source": [
    "# Discussion\n",
    "\n",
    "Describe results in non-statistical terms. <!-- Add sections as needed. -->\n",
    "\n",
    "## Limitations and Future Directions\n",
    "\n",
    "Every study has limitations. Based on this study, some additional steps might include…\n",
    "\n",
    "## Conclusion\n",
    "\n",
    "Let’s sum this up."
   ],
   "id": "a76650da-1613-45ff-a742-0ed79f752c5e"
  },
  {
   "cell_type": "markdown",
   "metadata": {},
   "source": [
    "# References"
   ],
   "id": "39e68769-80e6-4a64-a60b-d31282df2d10"
  },
  {
   "cell_type": "raw",
   "metadata": {
    "raw_mimetype": "text/html"
   },
   "source": [
    "<!-- References will auto-populate in the refs div below -->"
   ],
   "id": "629b289f-3b4b-4b4c-a240-c9c957d9b02a"
  },
  {
   "cell_type": "markdown",
   "metadata": {},
   "source": [
    "Austen, Jane. (1814) 1990. *Mansfield Park*. Oxford University Press.\n",
    "\n",
    "Cameron, A. Colin, and Pravin K. Trivedi. 2013. *Regression Analysis of Count Data*. 2nd ed. Cambridge: Cambridge University Press. <https://doi.org/10.1017/CBO9781139013567>.\n",
    "\n",
    "Cohen, Jacob, Patricia Cohen, Stephen G West, and Leona S Aiken. 2003. *Applied Multiple Regression/Correlation Analysis for the Behavioral Sciences*. 3rd ed. Lawrence Erlbaum Associates.\n",
    "\n",
    "Schneider, W Joel, and Kevin S McGrew. 2012. “The Cattell-Horn-Carroll Model of Intelligence.”\n",
    "\n",
    "Schneider, W Joel, and Daniel A Newman. 2015. “Intelligence Is Multidimensional: Theoretical Review and Implications of Specific Cognitive Abilities.” *Human Resource Management Review* 25 (1): 12–27."
   ],
   "id": "19cbac86-4c76-4139-abe4-12f175fd2d87"
  },
  {
   "cell_type": "raw",
   "metadata": {
    "raw_mimetype": "text/html"
   },
   "source": [
    "<!-- Delete Appendix if not needed. -->"
   ],
   "id": "5cde6521-18ac-43e7-8af3-3168c2e3da2f"
  },
  {
   "cell_type": "markdown",
   "metadata": {},
   "source": [
    "# Appendix A: List of Acronyms\n",
    "\n",
    "<span id=\"acronyms_qmd\">qmd</span>  \n",
    "Quarto document\n",
    "\n",
    "<span id=\"acronyms_YAML\">YAML</span>  \n",
    "YAML Aint Markup Language"
   ],
   "id": "6e304c79-3041-4706-8097-444ed39f8a39"
  }
 ],
 "nbformat": 4,
 "nbformat_minor": 5,
 "metadata": {}
}
