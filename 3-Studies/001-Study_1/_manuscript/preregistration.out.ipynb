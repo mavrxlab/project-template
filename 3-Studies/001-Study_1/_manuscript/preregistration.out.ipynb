{
 "cells": [
  {
   "cell_type": "markdown",
   "metadata": {},
   "source": [
    "# My preregistration for AsPredicted.org\n",
    "\n",
    "First Author, Affiliation  \n",
    "Ernst-August Doelle, Affiliation  \n",
    "February 22, 2024"
   ],
   "id": "bee7795f-57ca-42a5-b325-1d7d9da2b547"
  },
  {
   "cell_type": "raw",
   "metadata": {
    "raw_mimetype": "text/html"
   },
   "source": [
    "<!-- To keep pre-registrations to a reasonable length for readers, we recommend answers fit within a single page .pdf document, roughly 3200 characters. Read more about this here: https://aspredicted.org/messages/why_limits.php\n",
    "\n",
    "Uncomment the next line after including a link to the preregistration once submitted. -->"
   ],
   "id": "5b37b4c8-5228-49c0-87a6-a8483d03e5d5"
  },
  {
   "cell_type": "raw",
   "metadata": {
    "raw_mimetype": "text/html"
   },
   "source": [
    "<!-- > Link to submitted preregistration: https://osf.io/ -->"
   ],
   "id": "34ffb6e6-9bc1-4a66-bc66-5cbaf37e732f"
  },
  {
   "cell_type": "markdown",
   "metadata": {},
   "source": [
    "## Data collection"
   ],
   "id": "f78656ab-69bc-40c1-b241-97224759ce85"
  },
  {
   "cell_type": "raw",
   "metadata": {
    "raw_mimetype": "text/html"
   },
   "source": [
    "<!-- Have any data been collected for this study already? (Note: \"Yes\" is not an accepted answer.) -->"
   ],
   "id": "e5f5db32-a9b4-4429-bbc8-98068bfbc739"
  },
  {
   "cell_type": "markdown",
   "metadata": {},
   "source": [
    "**Yes**, we already collected the data.\n",
    "\n",
    "**No**, no data have been collected for this study yet.\n",
    "\n",
    "**It’s complicated.** We have already collected some data but explain in Question 8 why readers may consider this a valid **pre**-registration nevertheless.\n",
    "\n",
    "## Hypothesis"
   ],
   "id": "1ce7fbc2-4432-4f17-8887-50bbd86fb267"
  },
  {
   "cell_type": "raw",
   "metadata": {
    "raw_mimetype": "text/html"
   },
   "source": [
    "<!-- What's the main question being asked or hypothesis being tested in this study? -->"
   ],
   "id": "e71ed29b-dc28-4144-936d-bb2ad2a1ef7f"
  },
  {
   "cell_type": "markdown",
   "metadata": {},
   "source": [
    "> Example: A month-long academic summer program for disadvantaged kids will reduce the drop in academic performance that occurs during the summer.\n",
    "\n",
    "## Dependent variable"
   ],
   "id": "c93b399c-3788-4b2c-8c09-7661cee3ac0a"
  },
  {
   "cell_type": "raw",
   "metadata": {
    "raw_mimetype": "text/html"
   },
   "source": [
    "<!-- Describe the key dependent variable(s) specifying how they will be measured. -->"
   ],
   "id": "88646566-85c3-45b2-b397-03f9f5f7f243"
  },
  {
   "cell_type": "markdown",
   "metadata": {},
   "source": [
    "> Example: Simple average GPA across all courses during the first semester after the intervention.\n",
    "\n",
    "## Conditions"
   ],
   "id": "021fdbe8-8ac8-4a18-9d38-1c69c4705b77"
  },
  {
   "cell_type": "raw",
   "metadata": {
    "raw_mimetype": "text/html"
   },
   "source": [
    "<!-- How many and which conditions will participants be assigned to? -->"
   ],
   "id": "ced4bb86-95d4-46b6-9946-02e3cc0e13fe"
  },
  {
   "cell_type": "markdown",
   "metadata": {},
   "source": [
    "> Example 1: Two conditions: Offering summer program: yes vs no.\n",
    "\n",
    "> Example 2: 12 conditions in a mixed design lab study. Participants will be assigned to one of four conditions: math training, verbal training, memory task, or control (4 between-subject conditions). Each participant will complete a math test, a verbal test, and a memory test (3 within-subject conditions).\n",
    "\n",
    "## Analyses"
   ],
   "id": "53558bfb-0532-4838-a986-57b42d216127"
  },
  {
   "cell_type": "raw",
   "metadata": {
    "raw_mimetype": "text/html"
   },
   "source": [
    "<!-- Specify exactly which analyses you will conduct to examine the main question/hypothesis. -->"
   ],
   "id": "96029e8a-849e-451f-932e-2a664ef615ab"
  },
  {
   "cell_type": "markdown",
   "metadata": {},
   "source": [
    "> Example: Linear regression predicting the simple average GPA in the semester after the intervention with a dummy variable indicating whether the participant was offered the summer program or not (intention-to-treat analysis). We will also conduct the same regression controlling for simple average GPA during the semester before the intervention, gender, & household income (an 8-point scale ranging from 1 = below \\$20,000 and 8 = above \\$150,000).\n",
    "\n",
    "## Outliers and exclusions"
   ],
   "id": "803b0dc8-4809-4b26-ba41-0174d1db7c17"
  },
  {
   "cell_type": "raw",
   "metadata": {
    "raw_mimetype": "text/html"
   },
   "source": [
    "<!-- Describe exactly how outliers will be defined and handled, and your precise rule(s) for excluding observations. -->"
   ],
   "id": "93131aa6-7c40-45f2-ba06-96df91f31205"
  },
  {
   "cell_type": "markdown",
   "metadata": {},
   "source": [
    "> Example 1: We will compute the overall mean and standard deviation across all conditions, and winsorize at 2.5 SD above/below the mean. Example 2: We will exclude participants who incorrectly answer at least 2 of our 3 attention check questions. Example 3: We will exclude any participants who complete the survey in less than 30 seconds.\n",
    "\n",
    "## Sample size"
   ],
   "id": "89176637-becc-4061-b23a-80d0f064f2e0"
  },
  {
   "cell_type": "raw",
   "metadata": {
    "raw_mimetype": "text/html"
   },
   "source": [
    "<!-- How many observations will be collected or what will determine sample size? No need to justify decision, but be precise about _exactly_ how the number will be determined. -->"
   ],
   "id": "99b1270a-df6a-42c9-a392-23b3b9416e4d"
  },
  {
   "cell_type": "markdown",
   "metadata": {},
   "source": [
    "> Example: We will offer the program until 500 people have agreed to participate in it or until June 30, 2016 (whichever comes first).\n",
    "\n",
    "## Other"
   ],
   "id": "ac151f61-961d-4bf2-9b48-9f378557ccb9"
  },
  {
   "cell_type": "raw",
   "metadata": {
    "raw_mimetype": "text/html"
   },
   "source": [
    "<!-- Anything else you would like to pre-register? (e.g., secondary analyses, variables collected for exploratory purposes, unusual analyses planned?) -->"
   ],
   "id": "302092ba-6a1e-4148-86db-fffe8f50ef68"
  },
  {
   "cell_type": "markdown",
   "metadata": {},
   "source": [
    "> Example: We will include a battery of questions for exploratory purposes, including life satisfaction, amount of videogame playing, and family activity. We will also provide an additional survey with 24 questions assessing achievement orientation. We will not report the results of those analyses for the project being pre-registered. Otherwise, state ‘Nothing else to pre-register.’\n",
    "\n",
    "## Study type\n",
    "\n",
    "Finally. For record keeping purposes, please tell us the type of study you are pre-registering.\n",
    "\n",
    "-   Class project or assignment\n",
    "-   Experiment\n",
    "-   Survey\n",
    "-   Observational/archival study\n",
    "-   Other:"
   ],
   "id": "cedac54b-9e38-4b9d-aebb-78e72a17f162"
  }
 ],
 "nbformat": 4,
 "nbformat_minor": 5,
 "metadata": {}
}
