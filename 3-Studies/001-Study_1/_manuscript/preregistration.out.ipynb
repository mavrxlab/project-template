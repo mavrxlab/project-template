{
 "cells": [
  {
   "cell_type": "markdown",
   "metadata": {},
   "source": [
    "# My preregistration for AsPredicted.org\n",
    "\n",
    "First Author, Affiliation  \n",
    "Ernst-August Doelle, Affiliation  \n",
    "March 8, 2024"
   ],
   "id": "b2be07ab-ec02-471f-a625-3b4904fd97e7"
  },
  {
   "cell_type": "raw",
   "metadata": {
    "raw_mimetype": "text/html"
   },
   "source": [
    "<!-- To keep pre-registrations to a reasonable length for readers, we recommend answers fit within a single page .pdf document, roughly 3200 characters. Read more about this here: https://aspredicted.org/messages/why_limits.php\n",
    "\n",
    "Uncomment the next line after including a link to the preregistration once submitted. -->"
   ],
   "id": "dcff49b2-2017-4ddc-a4b1-e98842926297"
  },
  {
   "cell_type": "raw",
   "metadata": {
    "raw_mimetype": "text/html"
   },
   "source": [
    "<!-- > Link to submitted preregistration: https://osf.io/ -->"
   ],
   "id": "711df5e5-6882-49db-82f9-265ab799177a"
  },
  {
   "cell_type": "markdown",
   "metadata": {},
   "source": [
    "## Data collection"
   ],
   "id": "b5d3b1cd-bfbc-4aab-8fc1-5a9f2f6b58d9"
  },
  {
   "cell_type": "raw",
   "metadata": {
    "raw_mimetype": "text/html"
   },
   "source": [
    "<!-- Have any data been collected for this study already? (Note: \"Yes\" is not an accepted answer.) -->"
   ],
   "id": "ffd29979-9eb9-4dfa-82de-5e51d5f7eaa8"
  },
  {
   "cell_type": "markdown",
   "metadata": {},
   "source": [
    "**Yes**, we already collected the data.\n",
    "\n",
    "**No**, no data have been collected for this study yet.\n",
    "\n",
    "**It’s complicated.** We have already collected some data but explain in Question 8 why readers may consider this a valid **pre**-registration nevertheless.\n",
    "\n",
    "## Hypothesis"
   ],
   "id": "077d2d93-a645-4883-80d6-cc7c0ff24874"
  },
  {
   "cell_type": "raw",
   "metadata": {
    "raw_mimetype": "text/html"
   },
   "source": [
    "<!-- What's the main question being asked or hypothesis being tested in this study? -->"
   ],
   "id": "dd2b9c67-7377-4795-a778-5e9593f2dca7"
  },
  {
   "cell_type": "markdown",
   "metadata": {},
   "source": [
    "> Example: A month-long academic summer program for disadvantaged kids will reduce the drop in academic performance that occurs during the summer.\n",
    "\n",
    "## Dependent variable"
   ],
   "id": "35f0fb68-267b-4f2d-8058-b204ccb681f9"
  },
  {
   "cell_type": "raw",
   "metadata": {
    "raw_mimetype": "text/html"
   },
   "source": [
    "<!-- Describe the key dependent variable(s) specifying how they will be measured. -->"
   ],
   "id": "13feb218-be86-4dc0-a60e-eea9102d4e8e"
  },
  {
   "cell_type": "markdown",
   "metadata": {},
   "source": [
    "> Example: Simple average GPA across all courses during the first semester after the intervention.\n",
    "\n",
    "## Conditions"
   ],
   "id": "013d9ee7-5ffc-40ce-b161-972b6b817cc2"
  },
  {
   "cell_type": "raw",
   "metadata": {
    "raw_mimetype": "text/html"
   },
   "source": [
    "<!-- How many and which conditions will participants be assigned to? -->"
   ],
   "id": "87755d6d-3036-40f3-bbce-ffec6af23f74"
  },
  {
   "cell_type": "markdown",
   "metadata": {},
   "source": [
    "> Example 1: Two conditions: Offering summer program: yes vs no.\n",
    "\n",
    "> Example 2: 12 conditions in a mixed design lab study. Participants will be assigned to one of four conditions: math training, verbal training, memory task, or control (4 between-subject conditions). Each participant will complete a math test, a verbal test, and a memory test (3 within-subject conditions).\n",
    "\n",
    "## Analyses"
   ],
   "id": "46e48b86-3ca2-4827-a2f4-774908eda133"
  },
  {
   "cell_type": "raw",
   "metadata": {
    "raw_mimetype": "text/html"
   },
   "source": [
    "<!-- Specify exactly which analyses you will conduct to examine the main question/hypothesis. -->"
   ],
   "id": "b1bbdaaf-ecb6-4388-8663-830c6b3e349e"
  },
  {
   "cell_type": "markdown",
   "metadata": {},
   "source": [
    "> Example: Linear regression predicting the simple average GPA in the semester after the intervention with a dummy variable indicating whether the participant was offered the summer program or not (intention-to-treat analysis). We will also conduct the same regression controlling for simple average GPA during the semester before the intervention, gender, & household income (an 8-point scale ranging from 1 = below \\$20,000 and 8 = above \\$150,000).\n",
    "\n",
    "## Outliers and exclusions"
   ],
   "id": "8c4e4119-1861-4806-9ce4-7ff57486231c"
  },
  {
   "cell_type": "raw",
   "metadata": {
    "raw_mimetype": "text/html"
   },
   "source": [
    "<!-- Describe exactly how outliers will be defined and handled, and your precise rule(s) for excluding observations. -->"
   ],
   "id": "9c313b87-9b1d-472e-a9d7-4c7097111d9a"
  },
  {
   "cell_type": "markdown",
   "metadata": {},
   "source": [
    "> Example 1: We will compute the overall mean and standard deviation across all conditions, and winsorize at 2.5 SD above/below the mean. Example 2: We will exclude participants who incorrectly answer at least 2 of our 3 attention check questions. Example 3: We will exclude any participants who complete the survey in less than 30 seconds.\n",
    "\n",
    "## Sample size"
   ],
   "id": "6654ad72-bc8d-4a8d-ada6-447000ed5599"
  },
  {
   "cell_type": "raw",
   "metadata": {
    "raw_mimetype": "text/html"
   },
   "source": [
    "<!-- How many observations will be collected or what will determine sample size? No need to justify decision, but be precise about _exactly_ how the number will be determined. -->"
   ],
   "id": "14025394-a755-4724-8fd9-cc568a60a780"
  },
  {
   "cell_type": "markdown",
   "metadata": {},
   "source": [
    "> Example: We will offer the program until 500 people have agreed to participate in it or until June 30, 2016 (whichever comes first).\n",
    "\n",
    "## Other"
   ],
   "id": "c6f82ed4-0a94-4059-9df2-159d66764ddb"
  },
  {
   "cell_type": "raw",
   "metadata": {
    "raw_mimetype": "text/html"
   },
   "source": [
    "<!-- Anything else you would like to pre-register? (e.g., secondary analyses, variables collected for exploratory purposes, unusual analyses planned?) -->"
   ],
   "id": "09d26000-deeb-4b0c-9764-beab8cbd1239"
  },
  {
   "cell_type": "markdown",
   "metadata": {},
   "source": [
    "> Example: We will include a battery of questions for exploratory purposes, including life satisfaction, amount of videogame playing, and family activity. We will also provide an additional survey with 24 questions assessing achievement orientation. We will not report the results of those analyses for the project being pre-registered. Otherwise, state ‘Nothing else to pre-register.’\n",
    "\n",
    "## Study type\n",
    "\n",
    "Finally. For record keeping purposes, please tell us the type of study you are pre-registering.\n",
    "\n",
    "-   Class project or assignment\n",
    "-   Experiment\n",
    "-   Survey\n",
    "-   Observational/archival study\n",
    "-   Other:"
   ],
   "id": "b92d6ab0-4d8a-4a93-902f-aa4ce868e52c"
  }
 ],
 "nbformat": 4,
 "nbformat_minor": 5,
 "metadata": {}
}
