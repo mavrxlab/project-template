{
 "cells": [
  {
   "cell_type": "markdown",
   "metadata": {},
   "source": [
    "# How this study project works\n",
    "\n",
    "## Study folder\n",
    "\n",
    "Use this .Rproj when working on this publication. `here()` starts here, then, and the loading scrips are designed for this.\n",
    "\n",
    "## Preregistration\n",
    "\n",
    "Use the `preregistration.qmd` file to build out the preregistration you’ll eventually submit to OSF, et cetera.\n",
    "\n",
    "## Acronyms\n",
    "\n",
    "https://rchaput.github.io/acronyms/getting_started.html"
   ],
   "id": "78e73221-a7e6-4587-ac29-95038589caad"
  }
 ],
 "nbformat": 4,
 "nbformat_minor": 5,
 "metadata": {}
}
